{
 "cells": [
  {
   "cell_type": "markdown",
   "metadata": {},
   "source": [
    "# ANOMALY DETETCTION USING GAUSSIAN DISTRIBUTION"
   ]
  },
  {
   "cell_type": "markdown",
   "metadata": {},
   "source": [
    "In case of anomaly, the dataset can be both labelled as well as non labelled. In case of normal operation in the system, the data points are within the clustered range, but in case of any anomaly the data stands out of the density region.\n",
    "\n",
    "The anomaly detection problem has a desity estimation based approach \n",
    "\n",
    "STEPS:\n",
    "\n",
    "1. Training set : {x1,x2,...xn}\n",
    "-> Since we go for density based approach so it does not matter whether we have labelled or un-labelled data\n",
    "2. Model P(x) which is the cumulative probablity distribution function and is given by\n",
    "P(X) = P(X1,u1,sig1**2) * P(X2,u2,sig2**2).....P(Xn,un,sig**n)\n",
    "-> We are not sure about if all the features being independent of one another. So we go for multivariate gaussian approach\n"
   ]
  },
  {
   "cell_type": "code",
   "execution_count": 81,
   "metadata": {},
   "outputs": [],
   "source": [
    "import numpy as np\n",
    "import pandas as pd\n",
    "import seaborn as sns\n",
    "import matplotlib.pyplot as plt\n",
    "import matplotlib.gridspec as gridspec\n",
    "import plotly.graph_objs as go\n",
    "from plotly.offline import download_plotlyjs,init_notebook_mode,plot,iplot\n",
    "\n",
    "from sklearn.metrics import f1_score\n",
    "from sklearn.metrics import recall_score , average_precision_score\n",
    "from sklearn.metrics import precision_score, precision_recall_curve\n",
    "\n",
    "from sklearn.ensemble import RandomForestClassifier, AdaBoostClassifier, GradientBoostingClassifier, ExtraTreesClassifier, VotingClassifier\n",
    "\n",
    "\n",
    "from scipy.stats import multivariate_normal\n"
   ]
  },
  {
   "cell_type": "code",
   "execution_count": 6,
   "metadata": {},
   "outputs": [],
   "source": [
    "def GetMeanAndVarianceFromDataSet(dataset):\n",
    "    mu = np.mean(dataset, axis=0)\n",
    "    sigma = np.cov(dataset.T)\n",
    "    return mu, sigma\n",
    "\n"
   ]
  },
  {
   "cell_type": "markdown",
   "metadata": {},
   "source": [
    "### scipy.stats.multivariate_normal package can be used for getting multivariate"
   ]
  },
  {
   "cell_type": "code",
   "execution_count": 9,
   "metadata": {},
   "outputs": [],
   "source": [
    "#Returns a probablity distribution function\n",
    "def multivariateGaussian(dataset,mu,sigma):\n",
    "    p = multivariate_normal(mean=mu, cov=sigma)\n",
    "    return p.pdf(dataset)"
   ]
  },
  {
   "cell_type": "markdown",
   "metadata": {},
   "source": [
    "# Selecting value of epsilon\n",
    "For any new point x, if \n",
    "1. P(x) < epsilon , then case of anomaly\n",
    "2. P(x) >= epsilon , then normal case \n",
    "\n",
    "So, question is how to select the value of \"epsilon\"\n",
    "\n",
    "Possible evaluation matrics,\n",
    "1. TP, FP, TN, FN\n",
    "2. Precision/ Recall\n",
    "3. F1- score\n",
    "\n",
    "Note: Epsilon is a hyperparameter and need to be tunned "
   ]
  },
  {
   "cell_type": "code",
   "execution_count": 85,
   "metadata": {},
   "outputs": [],
   "source": [
    "def SelectThroshold(probablity_CrossValidation, crossValidation_Target_Y):\n",
    "    best_epsilon = 0\n",
    "    best_f1 = 0\n",
    "    best_Recall = 0\n",
    "    best_Precision = 0\n",
    "    f = 0\n",
    "    \n",
    "    farray = []\n",
    "    Recallarray = []\n",
    "    Precisionarray = []\n",
    "    \n",
    "    epsilons = (0.0000e+00, 1.0527717316e-70, 1.0527717316e-50, 1.0527717316e-24)\n",
    "    \n",
    "    for e in epsilons:\n",
    "        predictions = (probablity_CrossValidation < e)\n",
    "        f = f1_score(crossValidation_Target_Y, predictions, average = \"binary\")\n",
    "        Recall = recall_score(crossValidation_Target_Y, predictions, average = \"binary\")\n",
    "        Precision = precision_score(crossValidation_Target_Y, predictions, average = \"binary\") \n",
    "                \n",
    "        farray.append(f)\n",
    "        Recallarray.append(Recall)\n",
    "        Precisionarray.append(Precision)\n",
    "        \n",
    "        print(\"Epsilon: \", e, \"F-Score:\", f, \"Recall: \", Recall, \"Precision: \", Precision)\n",
    "        \n",
    "        if f > best_f1:\n",
    "            best_f1 =  f\n",
    "            best_Recall = Recall\n",
    "            best_Precision = Precision\n",
    "            best_epsilon = e\n",
    "            \n",
    "\n",
    "    return best_f1, best_epsilon, best_Recall, best_Precision\n",
    "    "
   ]
  },
  {
   "cell_type": "code",
   "execution_count": 12,
   "metadata": {},
   "outputs": [],
   "source": [
    "train_df = pd.read_csv(\"creditcardfraud\\creditcard.csv\")"
   ]
  },
  {
   "cell_type": "code",
   "execution_count": 18,
   "metadata": {},
   "outputs": [
    {
     "data": {
      "text/html": [
       "<div>\n",
       "<style scoped>\n",
       "    .dataframe tbody tr th:only-of-type {\n",
       "        vertical-align: middle;\n",
       "    }\n",
       "\n",
       "    .dataframe tbody tr th {\n",
       "        vertical-align: top;\n",
       "    }\n",
       "\n",
       "    .dataframe thead th {\n",
       "        text-align: right;\n",
       "    }\n",
       "</style>\n",
       "<table border=\"1\" class=\"dataframe\">\n",
       "  <thead>\n",
       "    <tr style=\"text-align: right;\">\n",
       "      <th></th>\n",
       "      <th>Time</th>\n",
       "      <th>V1</th>\n",
       "      <th>V2</th>\n",
       "      <th>V3</th>\n",
       "      <th>V4</th>\n",
       "      <th>V5</th>\n",
       "      <th>V6</th>\n",
       "      <th>V7</th>\n",
       "      <th>V8</th>\n",
       "      <th>V9</th>\n",
       "      <th>...</th>\n",
       "      <th>V21</th>\n",
       "      <th>V22</th>\n",
       "      <th>V23</th>\n",
       "      <th>V24</th>\n",
       "      <th>V25</th>\n",
       "      <th>V26</th>\n",
       "      <th>V27</th>\n",
       "      <th>V28</th>\n",
       "      <th>Amount</th>\n",
       "      <th>Class</th>\n",
       "    </tr>\n",
       "  </thead>\n",
       "  <tbody>\n",
       "    <tr>\n",
       "      <th>0</th>\n",
       "      <td>0.0</td>\n",
       "      <td>-1.359807</td>\n",
       "      <td>-0.072781</td>\n",
       "      <td>2.536347</td>\n",
       "      <td>1.378155</td>\n",
       "      <td>-0.338321</td>\n",
       "      <td>0.462388</td>\n",
       "      <td>0.239599</td>\n",
       "      <td>0.098698</td>\n",
       "      <td>0.363787</td>\n",
       "      <td>...</td>\n",
       "      <td>-0.018307</td>\n",
       "      <td>0.277838</td>\n",
       "      <td>-0.110474</td>\n",
       "      <td>0.066928</td>\n",
       "      <td>0.128539</td>\n",
       "      <td>-0.189115</td>\n",
       "      <td>0.133558</td>\n",
       "      <td>-0.021053</td>\n",
       "      <td>149.62</td>\n",
       "      <td>0</td>\n",
       "    </tr>\n",
       "    <tr>\n",
       "      <th>1</th>\n",
       "      <td>0.0</td>\n",
       "      <td>1.191857</td>\n",
       "      <td>0.266151</td>\n",
       "      <td>0.166480</td>\n",
       "      <td>0.448154</td>\n",
       "      <td>0.060018</td>\n",
       "      <td>-0.082361</td>\n",
       "      <td>-0.078803</td>\n",
       "      <td>0.085102</td>\n",
       "      <td>-0.255425</td>\n",
       "      <td>...</td>\n",
       "      <td>-0.225775</td>\n",
       "      <td>-0.638672</td>\n",
       "      <td>0.101288</td>\n",
       "      <td>-0.339846</td>\n",
       "      <td>0.167170</td>\n",
       "      <td>0.125895</td>\n",
       "      <td>-0.008983</td>\n",
       "      <td>0.014724</td>\n",
       "      <td>2.69</td>\n",
       "      <td>0</td>\n",
       "    </tr>\n",
       "    <tr>\n",
       "      <th>2</th>\n",
       "      <td>1.0</td>\n",
       "      <td>-1.358354</td>\n",
       "      <td>-1.340163</td>\n",
       "      <td>1.773209</td>\n",
       "      <td>0.379780</td>\n",
       "      <td>-0.503198</td>\n",
       "      <td>1.800499</td>\n",
       "      <td>0.791461</td>\n",
       "      <td>0.247676</td>\n",
       "      <td>-1.514654</td>\n",
       "      <td>...</td>\n",
       "      <td>0.247998</td>\n",
       "      <td>0.771679</td>\n",
       "      <td>0.909412</td>\n",
       "      <td>-0.689281</td>\n",
       "      <td>-0.327642</td>\n",
       "      <td>-0.139097</td>\n",
       "      <td>-0.055353</td>\n",
       "      <td>-0.059752</td>\n",
       "      <td>378.66</td>\n",
       "      <td>0</td>\n",
       "    </tr>\n",
       "    <tr>\n",
       "      <th>3</th>\n",
       "      <td>1.0</td>\n",
       "      <td>-0.966272</td>\n",
       "      <td>-0.185226</td>\n",
       "      <td>1.792993</td>\n",
       "      <td>-0.863291</td>\n",
       "      <td>-0.010309</td>\n",
       "      <td>1.247203</td>\n",
       "      <td>0.237609</td>\n",
       "      <td>0.377436</td>\n",
       "      <td>-1.387024</td>\n",
       "      <td>...</td>\n",
       "      <td>-0.108300</td>\n",
       "      <td>0.005274</td>\n",
       "      <td>-0.190321</td>\n",
       "      <td>-1.175575</td>\n",
       "      <td>0.647376</td>\n",
       "      <td>-0.221929</td>\n",
       "      <td>0.062723</td>\n",
       "      <td>0.061458</td>\n",
       "      <td>123.50</td>\n",
       "      <td>0</td>\n",
       "    </tr>\n",
       "    <tr>\n",
       "      <th>4</th>\n",
       "      <td>2.0</td>\n",
       "      <td>-1.158233</td>\n",
       "      <td>0.877737</td>\n",
       "      <td>1.548718</td>\n",
       "      <td>0.403034</td>\n",
       "      <td>-0.407193</td>\n",
       "      <td>0.095921</td>\n",
       "      <td>0.592941</td>\n",
       "      <td>-0.270533</td>\n",
       "      <td>0.817739</td>\n",
       "      <td>...</td>\n",
       "      <td>-0.009431</td>\n",
       "      <td>0.798278</td>\n",
       "      <td>-0.137458</td>\n",
       "      <td>0.141267</td>\n",
       "      <td>-0.206010</td>\n",
       "      <td>0.502292</td>\n",
       "      <td>0.219422</td>\n",
       "      <td>0.215153</td>\n",
       "      <td>69.99</td>\n",
       "      <td>0</td>\n",
       "    </tr>\n",
       "  </tbody>\n",
       "</table>\n",
       "<p>5 rows × 31 columns</p>\n",
       "</div>"
      ],
      "text/plain": [
       "   Time        V1        V2        V3        V4        V5        V6        V7  \\\n",
       "0   0.0 -1.359807 -0.072781  2.536347  1.378155 -0.338321  0.462388  0.239599   \n",
       "1   0.0  1.191857  0.266151  0.166480  0.448154  0.060018 -0.082361 -0.078803   \n",
       "2   1.0 -1.358354 -1.340163  1.773209  0.379780 -0.503198  1.800499  0.791461   \n",
       "3   1.0 -0.966272 -0.185226  1.792993 -0.863291 -0.010309  1.247203  0.237609   \n",
       "4   2.0 -1.158233  0.877737  1.548718  0.403034 -0.407193  0.095921  0.592941   \n",
       "\n",
       "         V8        V9  ...         V21       V22       V23       V24  \\\n",
       "0  0.098698  0.363787  ...   -0.018307  0.277838 -0.110474  0.066928   \n",
       "1  0.085102 -0.255425  ...   -0.225775 -0.638672  0.101288 -0.339846   \n",
       "2  0.247676 -1.514654  ...    0.247998  0.771679  0.909412 -0.689281   \n",
       "3  0.377436 -1.387024  ...   -0.108300  0.005274 -0.190321 -1.175575   \n",
       "4 -0.270533  0.817739  ...   -0.009431  0.798278 -0.137458  0.141267   \n",
       "\n",
       "        V25       V26       V27       V28  Amount  Class  \n",
       "0  0.128539 -0.189115  0.133558 -0.021053  149.62      0  \n",
       "1  0.167170  0.125895 -0.008983  0.014724    2.69      0  \n",
       "2 -0.327642 -0.139097 -0.055353 -0.059752  378.66      0  \n",
       "3  0.647376 -0.221929  0.062723  0.061458  123.50      0  \n",
       "4 -0.206010  0.502292  0.219422  0.215153   69.99      0  \n",
       "\n",
       "[5 rows x 31 columns]"
      ]
     },
     "execution_count": 18,
     "metadata": {},
     "output_type": "execute_result"
    }
   ],
   "source": [
    "train_df.head()"
   ]
  },
  {
   "cell_type": "code",
   "execution_count": 16,
   "metadata": {},
   "outputs": [
    {
     "data": {
      "text/plain": [
       "False"
      ]
     },
     "execution_count": 16,
     "metadata": {},
     "output_type": "execute_result"
    }
   ],
   "source": [
    "train_df.isnull().values.any()"
   ]
  },
  {
   "cell_type": "code",
   "execution_count": 20,
   "metadata": {},
   "outputs": [
    {
     "data": {
      "text/plain": [
       "(284807, 31)"
      ]
     },
     "execution_count": 20,
     "metadata": {},
     "output_type": "execute_result"
    }
   ],
   "source": [
    "train_df.shape"
   ]
  },
  {
   "cell_type": "code",
   "execution_count": 21,
   "metadata": {},
   "outputs": [],
   "source": [
    "v_features = train_df.iloc[:,1:29].columns"
   ]
  },
  {
   "cell_type": "markdown",
   "metadata": {},
   "source": [
    "### Plot distribution cuve for features "
   ]
  },
  {
   "cell_type": "code",
   "execution_count": 33,
   "metadata": {},
   "outputs": [
    {
     "name": "stderr",
     "output_type": "stream",
     "text": [
      "C:\\Users\\z00351wf\\AppData\\Local\\Continuum\\anaconda3\\envs\\DIGSI_T\\lib\\site-packages\\scipy\\stats\\stats.py:1713: FutureWarning: Using a non-tuple sequence for multidimensional indexing is deprecated; use `arr[tuple(seq)]` instead of `arr[seq]`. In the future this will be interpreted as an array index, `arr[np.array(seq)]`, which will result either in an error or a different result.\n",
      "  return np.add.reduce(sorted[indexer] * weights, axis=axis) / sumval\n"
     ]
    },
    {
     "data": {
      "image/png": "[encoded data removed]",
      "text/plain": [
       "<Figure size 864x2304 with 28 Axes>"
      ]
     },
     "metadata": {
      "needs_background": "light"
     },
     "output_type": "display_data"
    }
   ],
   "source": [
    "plt.figure(figsize=(12,8*4))\n",
    "gs = gridspec.GridSpec(7, 4)\n",
    "for i, cn in enumerate(train_df[v_features]):\n",
    "    ax = plt.subplot(gs[i])\n",
    "    sns.distplot(train_df[cn][train_df.Class == 1], bins=50)\n",
    "    sns.distplot(train_df[cn][train_df.Class == 0], bins=50)\n",
    "    ax.set_xlabel('')\n",
    "    ax.set_title('feature: ' + str(cn))\n",
    "plt.show()"
   ]
  },
  {
   "cell_type": "markdown",
   "metadata": {},
   "source": [
    "# Feature Importance"
   ]
  },
  {
   "cell_type": "code",
   "execution_count": 38,
   "metadata": {},
   "outputs": [],
   "source": [
    "random_Classifier =  RandomForestClassifier(n_estimators = 100 , criterion = 'entropy',random_state = 0)\n",
    "random_Classifier.fit(train_df.iloc[:,1:29],train_df.iloc[:,30]);"
   ]
  },
  {
   "cell_type": "code",
   "execution_count": 39,
   "metadata": {},
   "outputs": [
    {
     "data": {
      "text/plain": [
       "array([0.01100439, 0.00994678, 0.03744517, 0.03892046, 0.00868689,\n",
       "       0.0089239 , 0.02992325, 0.01204393, 0.02787159, 0.1014475 ,\n",
       "       0.07745576, 0.13234433, 0.00859532, 0.14446697, 0.00868831,\n",
       "       0.04224097, 0.18240053, 0.0208162 , 0.01270206, 0.01157425,\n",
       "       0.01195397, 0.00796125, 0.00709086, 0.00700933, 0.00729345,\n",
       "       0.01178519, 0.01059821, 0.00880919])"
      ]
     },
     "execution_count": 39,
     "metadata": {},
     "output_type": "execute_result"
    }
   ],
   "source": [
    "random_Classifier.feature_importances_"
   ]
  },
  {
   "cell_type": "code",
   "execution_count": 47,
   "metadata": {},
   "outputs": [
    {
     "data": {
      "application/vnd.plotly.v1+json": {
       "data": [
        {
         "marker": {
          "color": [
           0.007009327091452588,
           0.007090864756069252,
           0.007293445325850915,
           0.007961248826809937,
           0.008595315312412704,
           0.008686891678194057,
           0.008688311090286938,
           0.008809189891428816,
           0.008923898903588605,
           0.009946781922962153,
           0.01059821400203368,
           0.011004386133911468,
           0.011574249107405848,
           0.011785187869373942,
           0.01195397426630823,
           0.01204392865413024,
           0.012702062204011521,
           0.020816197155352326,
           0.027871587945440472,
           0.029923253055630834,
           0.03744517002582191,
           0.0389204552302894,
           0.042240973230260374,
           0.07745576059833321,
           0.10144749886503578,
           0.13234432564343263,
           0.14446696639991408,
           0.18240053481425814
          ],
          "colorscale": "Viridis",
          "reversescale": true
         },
         "name": "Random Forest Feature importance",
         "orientation": "h",
         "type": "bar",
         "uid": "76ca5a1a-c6f9-11e8-8b97-c4ad0fb5de17",
         "x": [
          0.007009327091452588,
          0.007090864756069252,
          0.007293445325850915,
          0.007961248826809937,
          0.008595315312412704,
          0.008686891678194057,
          0.008688311090286938,
          0.008809189891428816,
          0.008923898903588605,
          0.009946781922962153,
          0.01059821400203368,
          0.011004386133911468,
          0.011574249107405848,
          0.011785187869373942,
          0.01195397426630823,
          0.01204392865413024,
          0.012702062204011521,
          0.020816197155352326,
          0.027871587945440472,
          0.029923253055630834,
          0.03744517002582191,
          0.0389204552302894,
          0.042240973230260374,
          0.07745576059833321,
          0.10144749886503578,
          0.13234432564343263,
          0.14446696639991408,
          0.18240053481425814
         ],
         "y": [
          "V24",
          "V23",
          "V25",
          "V22",
          "V13",
          "V5",
          "V15",
          "V28",
          "V6",
          "V2",
          "V27",
          "V1",
          "V20",
          "V26",
          "V21",
          "V8",
          "V19",
          "V18",
          "V9",
          "V7",
          "V3",
          "V4",
          "V16",
          "V11",
          "V10",
          "V12",
          "V14",
          "V17"
         ]
        }
       ],
       "layout": {
        "height": 1000,
        "margin": {
         "l": 300
        },
        "title": "Barplot of Feature importances",
        "width": 600,
        "yaxis": {
         "showgrid": false,
         "showline": false,
         "showticklabels": true
        }
       }
      }
     },
     "metadata": {},
     "output_type": "display_data"
    }
   ],
   "source": [
    "x, y = (list(x) for x in zip(*sorted(zip(random_Classifier.feature_importances_, train_df.iloc[:,1:29].columns), \n",
    "                                                            reverse = False)))\n",
    "trace2 = go.Bar(\n",
    "    x=x ,\n",
    "    y=y,\n",
    "    marker=dict(\n",
    "        color=x,\n",
    "        colorscale = 'Viridis',\n",
    "        reversescale = True\n",
    "    ),\n",
    "    name='Random Forest Feature importance',\n",
    "    orientation='h',\n",
    ")\n",
    "\n",
    "layout = dict(\n",
    "    title='Barplot of Feature importances',\n",
    "     width = 600, height = 1000,\n",
    "    yaxis=dict(\n",
    "        showgrid=False,\n",
    "        showline=False,\n",
    "        showticklabels=True,\n",
    "#         domain=[0, 0.85],\n",
    "    ),\n",
    "    margin=dict(\n",
    "    l=300,\n",
    "),\n",
    ")\n",
    "\n",
    "fig1 = go.Figure(data=[trace2], layout=layout)\n",
    "iplot(fig1)"
   ]
  },
  {
   "cell_type": "code",
   "execution_count": 49,
   "metadata": {},
   "outputs": [
    {
     "name": "stdout",
     "output_type": "stream",
     "text": [
      "\"V3\",\n",
      "\"V4\",\n",
      "\"V7\",\n",
      "\"V9\",\n",
      "\"V10\",\n",
      "\"V11\",\n",
      "\"V12\",\n",
      "\"V14\",\n",
      "\"V16\",\n",
      "\"V17\",\n",
      "\"V18\",\n"
     ]
    }
   ],
   "source": [
    "for feature, importance in zip(train_df.iloc[:,1:29].columns, random_Classifier.feature_importances_):\n",
    "    if importance > 0.020 :\n",
    "        print('\"' + feature + '\"'+',')"
   ]
  },
  {
   "cell_type": "code",
   "execution_count": 50,
   "metadata": {},
   "outputs": [],
   "source": [
    "train_df.drop(['V19','V21','V1','V2','V6','V5','V28','V27','V26','V25','V24','V23','V22','V20','V15','V13','V8'], axis =1, inplace = True)"
   ]
  },
  {
   "cell_type": "code",
   "execution_count": 51,
   "metadata": {},
   "outputs": [
    {
     "data": {
      "text/html": [
       "<div>\n",
       "<style scoped>\n",
       "    .dataframe tbody tr th:only-of-type {\n",
       "        vertical-align: middle;\n",
       "    }\n",
       "\n",
       "    .dataframe tbody tr th {\n",
       "        vertical-align: top;\n",
       "    }\n",
       "\n",
       "    .dataframe thead th {\n",
       "        text-align: right;\n",
       "    }\n",
       "</style>\n",
       "<table border=\"1\" class=\"dataframe\">\n",
       "  <thead>\n",
       "    <tr style=\"text-align: right;\">\n",
       "      <th></th>\n",
       "      <th>Time</th>\n",
       "      <th>V3</th>\n",
       "      <th>V4</th>\n",
       "      <th>V7</th>\n",
       "      <th>V9</th>\n",
       "      <th>V10</th>\n",
       "      <th>V11</th>\n",
       "      <th>V12</th>\n",
       "      <th>V14</th>\n",
       "      <th>V16</th>\n",
       "      <th>V17</th>\n",
       "      <th>V18</th>\n",
       "      <th>Amount</th>\n",
       "      <th>Class</th>\n",
       "    </tr>\n",
       "  </thead>\n",
       "  <tbody>\n",
       "    <tr>\n",
       "      <th>0</th>\n",
       "      <td>0.0</td>\n",
       "      <td>2.536347</td>\n",
       "      <td>1.378155</td>\n",
       "      <td>0.239599</td>\n",
       "      <td>0.363787</td>\n",
       "      <td>0.090794</td>\n",
       "      <td>-0.551600</td>\n",
       "      <td>-0.617801</td>\n",
       "      <td>-0.311169</td>\n",
       "      <td>-0.470401</td>\n",
       "      <td>0.207971</td>\n",
       "      <td>0.025791</td>\n",
       "      <td>149.62</td>\n",
       "      <td>0</td>\n",
       "    </tr>\n",
       "    <tr>\n",
       "      <th>1</th>\n",
       "      <td>0.0</td>\n",
       "      <td>0.166480</td>\n",
       "      <td>0.448154</td>\n",
       "      <td>-0.078803</td>\n",
       "      <td>-0.255425</td>\n",
       "      <td>-0.166974</td>\n",
       "      <td>1.612727</td>\n",
       "      <td>1.065235</td>\n",
       "      <td>-0.143772</td>\n",
       "      <td>0.463917</td>\n",
       "      <td>-0.114805</td>\n",
       "      <td>-0.183361</td>\n",
       "      <td>2.69</td>\n",
       "      <td>0</td>\n",
       "    </tr>\n",
       "    <tr>\n",
       "      <th>2</th>\n",
       "      <td>1.0</td>\n",
       "      <td>1.773209</td>\n",
       "      <td>0.379780</td>\n",
       "      <td>0.791461</td>\n",
       "      <td>-1.514654</td>\n",
       "      <td>0.207643</td>\n",
       "      <td>0.624501</td>\n",
       "      <td>0.066084</td>\n",
       "      <td>-0.165946</td>\n",
       "      <td>-2.890083</td>\n",
       "      <td>1.109969</td>\n",
       "      <td>-0.121359</td>\n",
       "      <td>378.66</td>\n",
       "      <td>0</td>\n",
       "    </tr>\n",
       "    <tr>\n",
       "      <th>3</th>\n",
       "      <td>1.0</td>\n",
       "      <td>1.792993</td>\n",
       "      <td>-0.863291</td>\n",
       "      <td>0.237609</td>\n",
       "      <td>-1.387024</td>\n",
       "      <td>-0.054952</td>\n",
       "      <td>-0.226487</td>\n",
       "      <td>0.178228</td>\n",
       "      <td>-0.287924</td>\n",
       "      <td>-1.059647</td>\n",
       "      <td>-0.684093</td>\n",
       "      <td>1.965775</td>\n",
       "      <td>123.50</td>\n",
       "      <td>0</td>\n",
       "    </tr>\n",
       "    <tr>\n",
       "      <th>4</th>\n",
       "      <td>2.0</td>\n",
       "      <td>1.548718</td>\n",
       "      <td>0.403034</td>\n",
       "      <td>0.592941</td>\n",
       "      <td>0.817739</td>\n",
       "      <td>0.753074</td>\n",
       "      <td>-0.822843</td>\n",
       "      <td>0.538196</td>\n",
       "      <td>-1.119670</td>\n",
       "      <td>-0.451449</td>\n",
       "      <td>-0.237033</td>\n",
       "      <td>-0.038195</td>\n",
       "      <td>69.99</td>\n",
       "      <td>0</td>\n",
       "    </tr>\n",
       "  </tbody>\n",
       "</table>\n",
       "</div>"
      ],
      "text/plain": [
       "   Time        V3        V4        V7        V9       V10       V11       V12  \\\n",
       "0   0.0  2.536347  1.378155  0.239599  0.363787  0.090794 -0.551600 -0.617801   \n",
       "1   0.0  0.166480  0.448154 -0.078803 -0.255425 -0.166974  1.612727  1.065235   \n",
       "2   1.0  1.773209  0.379780  0.791461 -1.514654  0.207643  0.624501  0.066084   \n",
       "3   1.0  1.792993 -0.863291  0.237609 -1.387024 -0.054952 -0.226487  0.178228   \n",
       "4   2.0  1.548718  0.403034  0.592941  0.817739  0.753074 -0.822843  0.538196   \n",
       "\n",
       "        V14       V16       V17       V18  Amount  Class  \n",
       "0 -0.311169 -0.470401  0.207971  0.025791  149.62      0  \n",
       "1 -0.143772  0.463917 -0.114805 -0.183361    2.69      0  \n",
       "2 -0.165946 -2.890083  1.109969 -0.121359  378.66      0  \n",
       "3 -0.287924 -1.059647 -0.684093  1.965775  123.50      0  \n",
       "4 -1.119670 -0.451449 -0.237033 -0.038195   69.99      0  "
      ]
     },
     "execution_count": 51,
     "metadata": {},
     "output_type": "execute_result"
    }
   ],
   "source": [
    "train_df.head()"
   ]
  },
  {
   "cell_type": "code",
   "execution_count": 52,
   "metadata": {},
   "outputs": [],
   "source": [
    "train_df.drop(labels = [\"Amount\",\"Time\"], axis = 1, inplace = True)"
   ]
  },
  {
   "cell_type": "code",
   "execution_count": 53,
   "metadata": {},
   "outputs": [
    {
     "data": {
      "text/html": [
       "<div>\n",
       "<style scoped>\n",
       "    .dataframe tbody tr th:only-of-type {\n",
       "        vertical-align: middle;\n",
       "    }\n",
       "\n",
       "    .dataframe tbody tr th {\n",
       "        vertical-align: top;\n",
       "    }\n",
       "\n",
       "    .dataframe thead th {\n",
       "        text-align: right;\n",
       "    }\n",
       "</style>\n",
       "<table border=\"1\" class=\"dataframe\">\n",
       "  <thead>\n",
       "    <tr style=\"text-align: right;\">\n",
       "      <th></th>\n",
       "      <th>V3</th>\n",
       "      <th>V4</th>\n",
       "      <th>V7</th>\n",
       "      <th>V9</th>\n",
       "      <th>V10</th>\n",
       "      <th>V11</th>\n",
       "      <th>V12</th>\n",
       "      <th>V14</th>\n",
       "      <th>V16</th>\n",
       "      <th>V17</th>\n",
       "      <th>V18</th>\n",
       "      <th>Class</th>\n",
       "    </tr>\n",
       "  </thead>\n",
       "  <tbody>\n",
       "    <tr>\n",
       "      <th>0</th>\n",
       "      <td>2.536347</td>\n",
       "      <td>1.378155</td>\n",
       "      <td>0.239599</td>\n",
       "      <td>0.363787</td>\n",
       "      <td>0.090794</td>\n",
       "      <td>-0.551600</td>\n",
       "      <td>-0.617801</td>\n",
       "      <td>-0.311169</td>\n",
       "      <td>-0.470401</td>\n",
       "      <td>0.207971</td>\n",
       "      <td>0.025791</td>\n",
       "      <td>0</td>\n",
       "    </tr>\n",
       "    <tr>\n",
       "      <th>1</th>\n",
       "      <td>0.166480</td>\n",
       "      <td>0.448154</td>\n",
       "      <td>-0.078803</td>\n",
       "      <td>-0.255425</td>\n",
       "      <td>-0.166974</td>\n",
       "      <td>1.612727</td>\n",
       "      <td>1.065235</td>\n",
       "      <td>-0.143772</td>\n",
       "      <td>0.463917</td>\n",
       "      <td>-0.114805</td>\n",
       "      <td>-0.183361</td>\n",
       "      <td>0</td>\n",
       "    </tr>\n",
       "    <tr>\n",
       "      <th>2</th>\n",
       "      <td>1.773209</td>\n",
       "      <td>0.379780</td>\n",
       "      <td>0.791461</td>\n",
       "      <td>-1.514654</td>\n",
       "      <td>0.207643</td>\n",
       "      <td>0.624501</td>\n",
       "      <td>0.066084</td>\n",
       "      <td>-0.165946</td>\n",
       "      <td>-2.890083</td>\n",
       "      <td>1.109969</td>\n",
       "      <td>-0.121359</td>\n",
       "      <td>0</td>\n",
       "    </tr>\n",
       "    <tr>\n",
       "      <th>3</th>\n",
       "      <td>1.792993</td>\n",
       "      <td>-0.863291</td>\n",
       "      <td>0.237609</td>\n",
       "      <td>-1.387024</td>\n",
       "      <td>-0.054952</td>\n",
       "      <td>-0.226487</td>\n",
       "      <td>0.178228</td>\n",
       "      <td>-0.287924</td>\n",
       "      <td>-1.059647</td>\n",
       "      <td>-0.684093</td>\n",
       "      <td>1.965775</td>\n",
       "      <td>0</td>\n",
       "    </tr>\n",
       "    <tr>\n",
       "      <th>4</th>\n",
       "      <td>1.548718</td>\n",
       "      <td>0.403034</td>\n",
       "      <td>0.592941</td>\n",
       "      <td>0.817739</td>\n",
       "      <td>0.753074</td>\n",
       "      <td>-0.822843</td>\n",
       "      <td>0.538196</td>\n",
       "      <td>-1.119670</td>\n",
       "      <td>-0.451449</td>\n",
       "      <td>-0.237033</td>\n",
       "      <td>-0.038195</td>\n",
       "      <td>0</td>\n",
       "    </tr>\n",
       "  </tbody>\n",
       "</table>\n",
       "</div>"
      ],
      "text/plain": [
       "         V3        V4        V7        V9       V10       V11       V12  \\\n",
       "0  2.536347  1.378155  0.239599  0.363787  0.090794 -0.551600 -0.617801   \n",
       "1  0.166480  0.448154 -0.078803 -0.255425 -0.166974  1.612727  1.065235   \n",
       "2  1.773209  0.379780  0.791461 -1.514654  0.207643  0.624501  0.066084   \n",
       "3  1.792993 -0.863291  0.237609 -1.387024 -0.054952 -0.226487  0.178228   \n",
       "4  1.548718  0.403034  0.592941  0.817739  0.753074 -0.822843  0.538196   \n",
       "\n",
       "        V14       V16       V17       V18  Class  \n",
       "0 -0.311169 -0.470401  0.207971  0.025791      0  \n",
       "1 -0.143772  0.463917 -0.114805 -0.183361      0  \n",
       "2 -0.165946 -2.890083  1.109969 -0.121359      0  \n",
       "3 -0.287924 -1.059647 -0.684093  1.965775      0  \n",
       "4 -1.119670 -0.451449 -0.237033 -0.038195      0  "
      ]
     },
     "execution_count": 53,
     "metadata": {},
     "output_type": "execute_result"
    }
   ],
   "source": [
    "train_df.head()"
   ]
  },
  {
   "cell_type": "markdown",
   "metadata": {},
   "source": [
    "## Split the dataset into 2 part one with Class 1 and other with class 0"
   ]
  },
  {
   "cell_type": "code",
   "execution_count": 54,
   "metadata": {},
   "outputs": [],
   "source": [
    "train_Class_1 = train_df[train_df.Class == 1]\n",
    "train_Class_0 = train_df[train_df.Class == 0]"
   ]
  },
  {
   "cell_type": "markdown",
   "metadata": {},
   "source": [
    "## Developing data for finding epsilon\n",
    "\n",
    "3 parts needed\n",
    "1. Training set : 60 % of the data should be dominating class or non anomaly case here(applicable for both supervised and unsupervised learning)\n",
    "\n",
    "2. Cross validation dataset : 20% of the left over data non anomaly data + 50% of the anomaly data\n",
    "\n",
    "3. Test Dataset : leftover(20%) + left over anomalized data(50%)\n"
   ]
  },
  {
   "cell_type": "code",
   "execution_count": 59,
   "metadata": {},
   "outputs": [
    {
     "name": "stdout",
     "output_type": "stream",
     "text": [
      "NormalDataSet_Count: 284315\n",
      "AnomalousDataSet_Count: 492\n"
     ]
    }
   ],
   "source": [
    "NormalDataSet_Count = len(train_Class_0)\n",
    "AnomalousDataSet_Count = len(train_Class_1)\n",
    "print(\"NormalDataSet_Count:\", NormalDataSet_Count)\n",
    "print(\"AnomalousDataSet_Count:\", AnomalousDataSet_Count)"
   ]
  },
  {
   "cell_type": "markdown",
   "metadata": {},
   "source": [
    "### CV and Test for anomalous dataset"
   ]
  },
  {
   "cell_type": "code",
   "execution_count": 71,
   "metadata": {},
   "outputs": [],
   "source": [
    "start_mid = AnomalousDataSet_Count // 2\n",
    "start_midway = start_mid + 1\n",
    "\n",
    "train_CV_Anomolous  = train_Class_1 [: start_mid]\n",
    "train_Test_Anomolous = train_Class_1[start_midway:AnomalousDataSet_Count]"
   ]
  },
  {
   "cell_type": "markdown",
   "metadata": {},
   "source": [
    "### CV and Test for Non- ANomalous dataset"
   ]
  },
  {
   "cell_type": "code",
   "execution_count": 69,
   "metadata": {},
   "outputs": [],
   "source": [
    "start_mid = (NormalDataSet_Count * 60) // 100\n",
    "start_midway = start_mid + 1\n",
    "\n",
    "cv_mid = (NormalDataSet_Count * 80) // 100\n",
    "cv_midway = cv_mid + 1\n",
    "\n",
    "\n",
    "train_TrainingSet = train_Class_0[:start_mid]\n",
    "train_CV_NonAnomolous    = train_Class_0[start_midway:cv_mid]\n",
    "train_test_NonAnomolous  = train_Class_0[cv_midway:NormalDataSet_Count]"
   ]
  },
  {
   "cell_type": "code",
   "execution_count": 72,
   "metadata": {},
   "outputs": [],
   "source": [
    "train_cv = pd.concat([train_CV_NonAnomolous,train_CV_Anomolous],axis=0)\n",
    "train_test = pd.concat([train_test_NonAnomolous,train_Test_Anomolous],axis=0)"
   ]
  },
  {
   "cell_type": "code",
   "execution_count": 73,
   "metadata": {},
   "outputs": [
    {
     "name": "stdout",
     "output_type": "stream",
     "text": [
      "['V3' 'V4' 'V7' 'V9' 'V10' 'V11' 'V12' 'V14' 'V16' 'V17' 'V18' 'Class']\n",
      "['V3' 'V4' 'V7' 'V9' 'V10' 'V11' 'V12' 'V14' 'V16' 'V17' 'V18' 'Class']\n",
      "['V3' 'V4' 'V7' 'V9' 'V10' 'V11' 'V12' 'V14' 'V16' 'V17' 'V18' 'Class']\n"
     ]
    }
   ],
   "source": [
    "print(train_TrainingSet.columns.values)\n",
    "print(train_cv.columns.values)\n",
    "print(train_test.columns.values)"
   ]
  },
  {
   "cell_type": "code",
   "execution_count": 74,
   "metadata": {},
   "outputs": [],
   "source": [
    "train_CV_Y = train_cv[\"Class\"]\n",
    "train_test_Y = train_test[\"Class\"]"
   ]
  },
  {
   "cell_type": "code",
   "execution_count": 75,
   "metadata": {},
   "outputs": [
    {
     "name": "stderr",
     "output_type": "stream",
     "text": [
      "C:\\Users\\z00351wf\\AppData\\Local\\Continuum\\anaconda3\\envs\\DIGSI_T\\lib\\site-packages\\pandas\\core\\frame.py:3694: SettingWithCopyWarning:\n",
      "\n",
      "\n",
      "A value is trying to be set on a copy of a slice from a DataFrame\n",
      "\n",
      "See the caveats in the documentation: http://pandas.pydata.org/pandas-docs/stable/indexing.html#indexing-view-versus-copy\n",
      "\n"
     ]
    }
   ],
   "source": [
    "train_cv.drop(labels = [\"Class\"], axis = 1, inplace = True)\n",
    "train_TrainingSet.drop(labels = [\"Class\"], axis = 1, inplace = True)\n",
    "train_test.drop(labels = [\"Class\"], axis = 1, inplace = True)"
   ]
  },
  {
   "cell_type": "markdown",
   "metadata": {},
   "source": [
    "# Choose epsilon"
   ]
  },
  {
   "cell_type": "code",
   "execution_count": 77,
   "metadata": {},
   "outputs": [],
   "source": [
    "mu , sigma = GetMeanAndVarianceFromDataSet(train_TrainingSet)"
   ]
  },
  {
   "cell_type": "code",
   "execution_count": 78,
   "metadata": {},
   "outputs": [],
   "source": [
    "p = multivariateGaussian(train_TrainingSet, mu, sigma)"
   ]
  },
  {
   "cell_type": "code",
   "execution_count": 79,
   "metadata": {},
   "outputs": [],
   "source": [
    "p_CV = multivariateGaussian(train_cv,mu, sigma)"
   ]
  },
  {
   "cell_type": "code",
   "execution_count": 80,
   "metadata": {},
   "outputs": [],
   "source": [
    "p_test = multivariateGaussian(train_test,mu,sigma)"
   ]
  },
  {
   "cell_type": "code",
   "execution_count": 86,
   "metadata": {},
   "outputs": [
    {
     "name": "stdout",
     "output_type": "stream",
     "text": [
      "Epsilon:  0.0 F-Score: 0.0 Recall:  0.0 Precision:  0.0\n",
      "Epsilon:  1.0527717316e-70 F-Score: 0.8294736842105263 Recall:  0.8008130081300813 Precision:  0.8602620087336245\n",
      "Epsilon:  1.0527717316e-50 F-Score: 0.769811320754717 Recall:  0.8292682926829268 Precision:  0.7183098591549296\n",
      "Epsilon:  1.0527717316e-24 F-Score: 0.4899882214369847 Recall:  0.8455284552845529 Precision:  0.3449419568822554\n"
     ]
    },
    {
     "name": "stderr",
     "output_type": "stream",
     "text": [
      "C:\\Users\\z00351wf\\AppData\\Local\\Continuum\\anaconda3\\envs\\DIGSI_T\\lib\\site-packages\\sklearn\\metrics\\classification.py:1135: UndefinedMetricWarning:\n",
      "\n",
      "F-score is ill-defined and being set to 0.0 due to no predicted samples.\n",
      "\n",
      "C:\\Users\\z00351wf\\AppData\\Local\\Continuum\\anaconda3\\envs\\DIGSI_T\\lib\\site-packages\\sklearn\\metrics\\classification.py:1135: UndefinedMetricWarning:\n",
      "\n",
      "Precision is ill-defined and being set to 0.0 due to no predicted samples.\n",
      "\n"
     ]
    }
   ],
   "source": [
    "f1, epsilon, Recall, Precision = SelectThroshold(p_CV,train_CV_Y)"
   ]
  },
  {
   "cell_type": "markdown",
   "metadata": {},
   "source": [
    "# In practical case one needs to try various values of epsilon and when it gives best F_score it needs to be selected and tried on test data "
   ]
  },
  {
   "cell_type": "markdown",
   "metadata": {},
   "source": [
    "# Taking epsilon = 1.0527717316e-70 from previous tried cases"
   ]
  },
  {
   "cell_type": "code",
   "execution_count": 88,
   "metadata": {},
   "outputs": [
    {
     "name": "stdout",
     "output_type": "stream",
     "text": [
      "1.0527717316e-70\n"
     ]
    }
   ],
   "source": [
    "print(epsilon)"
   ]
  },
  {
   "cell_type": "code",
   "execution_count": 89,
   "metadata": {},
   "outputs": [
    {
     "name": "stdout",
     "output_type": "stream",
     "text": [
      "F1 score , Recall and Precision for Test dataset\n",
      "Best F1 Score 0.767816\n",
      "Best Recall Score 0.681633\n",
      "Best Precision Score 0.878947\n"
     ]
    }
   ],
   "source": [
    "predictions = (p_test < epsilon)\n",
    "Recall = recall_score(train_test_Y, predictions, average = \"binary\")    \n",
    "Precision = precision_score(train_test_Y, predictions, average = \"binary\")\n",
    "F1score = f1_score(train_test_Y, predictions, average = \"binary\")    \n",
    "print ('F1 score , Recall and Precision for Test dataset')\n",
    "print ('Best F1 Score %f' %F1score)\n",
    "print ('Best Recall Score %f' %Recall)\n",
    "print ('Best Precision Score %f' %Precision)"
   ]
  }
 ],
 "metadata": {
  "kernelspec": {
   "display_name": "Python 3",
   "language": "python",
   "name": "python3"
  }
 },
 "nbformat": 4,
 "nbformat_minor": 2
}
