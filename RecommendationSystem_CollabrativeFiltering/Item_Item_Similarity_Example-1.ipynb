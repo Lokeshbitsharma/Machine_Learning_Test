{
 "cells": [
  {
   "cell_type": "code",
   "execution_count": 1,
   "metadata": {
    "collapsed": true
   },
   "outputs": [],
   "source": [
    "# Collaborative Filtering Item Item Similarity"
   ]
  },
  {
   "cell_type": "code",
   "execution_count": 2,
   "metadata": {
    "collapsed": true
   },
   "outputs": [],
   "source": [
    "# This is an example Excercise on Memory Based Collaborative Filtering where we use a Movie Preference data from MovieLens\n",
    "# We show how recommendations are made using an Item-Item similarity matrix"
   ]
  },
  {
   "cell_type": "code",
   "execution_count": 3,
   "metadata": {
    "collapsed": true
   },
   "outputs": [],
   "source": [
    "# Created by :"
   ]
  },
  {
   "cell_type": "code",
   "execution_count": 4,
   "metadata": {
    "collapsed": true
   },
   "outputs": [],
   "source": [
    "import pandas as pd\n",
    "import numpy as np"
   ]
  },
  {
   "cell_type": "code",
   "execution_count": 5,
   "metadata": {
    "collapsed": true
   },
   "outputs": [],
   "source": [
    "import matplotlib.pyplot as plt\n",
    "import seaborn as sns\n",
    "%matplotlib inline"
   ]
  },
  {
   "cell_type": "code",
   "execution_count": 6,
   "metadata": {
    "collapsed": true
   },
   "outputs": [],
   "source": [
    "ratings = pd.read_csv('ratings.csv')"
   ]
  },
  {
   "cell_type": "code",
   "execution_count": 7,
   "metadata": {},
   "outputs": [
    {
     "data": {
      "text/html": [
       "<div>\n",
       "<style scoped>\n",
       "    .dataframe tbody tr th:only-of-type {\n",
       "        vertical-align: middle;\n",
       "    }\n",
       "\n",
       "    .dataframe tbody tr th {\n",
       "        vertical-align: top;\n",
       "    }\n",
       "\n",
       "    .dataframe thead th {\n",
       "        text-align: right;\n",
       "    }\n",
       "</style>\n",
       "<table border=\"1\" class=\"dataframe\">\n",
       "  <thead>\n",
       "    <tr style=\"text-align: right;\">\n",
       "      <th></th>\n",
       "      <th>userId</th>\n",
       "      <th>movieId</th>\n",
       "      <th>rating</th>\n",
       "      <th>timestamp</th>\n",
       "    </tr>\n",
       "  </thead>\n",
       "  <tbody>\n",
       "    <tr>\n",
       "      <th>0</th>\n",
       "      <td>1</td>\n",
       "      <td>31</td>\n",
       "      <td>2.5</td>\n",
       "      <td>1260759144</td>\n",
       "    </tr>\n",
       "    <tr>\n",
       "      <th>1</th>\n",
       "      <td>1</td>\n",
       "      <td>1029</td>\n",
       "      <td>3.0</td>\n",
       "      <td>1260759179</td>\n",
       "    </tr>\n",
       "    <tr>\n",
       "      <th>2</th>\n",
       "      <td>1</td>\n",
       "      <td>1061</td>\n",
       "      <td>3.0</td>\n",
       "      <td>1260759182</td>\n",
       "    </tr>\n",
       "    <tr>\n",
       "      <th>3</th>\n",
       "      <td>1</td>\n",
       "      <td>1129</td>\n",
       "      <td>2.0</td>\n",
       "      <td>1260759185</td>\n",
       "    </tr>\n",
       "    <tr>\n",
       "      <th>4</th>\n",
       "      <td>1</td>\n",
       "      <td>1172</td>\n",
       "      <td>4.0</td>\n",
       "      <td>1260759205</td>\n",
       "    </tr>\n",
       "  </tbody>\n",
       "</table>\n",
       "</div>"
      ],
      "text/plain": [
       "   userId  movieId  rating   timestamp\n",
       "0       1       31     2.5  1260759144\n",
       "1       1     1029     3.0  1260759179\n",
       "2       1     1061     3.0  1260759182\n",
       "3       1     1129     2.0  1260759185\n",
       "4       1     1172     4.0  1260759205"
      ]
     },
     "execution_count": 7,
     "metadata": {},
     "output_type": "execute_result"
    }
   ],
   "source": [
    "ratings.head()"
   ]
  },
  {
   "cell_type": "code",
   "execution_count": 8,
   "metadata": {
    "collapsed": true
   },
   "outputs": [],
   "source": [
    "movies = pd.read_csv('movies.csv')"
   ]
  },
  {
   "cell_type": "code",
   "execution_count": 9,
   "metadata": {
    "collapsed": true
   },
   "outputs": [],
   "source": [
    "# Identify Genres of each movie and creating a genre vector"
   ]
  },
  {
   "cell_type": "code",
   "execution_count": 10,
   "metadata": {},
   "outputs": [],
   "source": [
    "def ReturnGenres(genreSeries):\n",
    "    genreInd = 0\n",
    "    for genres in genreSeries :\n",
    "        genreList = genres.split('|')\n",
    "        for genre in genreList :\n",
    "            yield genre,genreInd\n",
    "        genreInd += 1"
   ]
  },
  {
   "cell_type": "code",
   "execution_count": 11,
   "metadata": {
    "collapsed": true
   },
   "outputs": [],
   "source": [
    "genres = ReturnGenres(movies.genres)"
   ]
  },
  {
   "cell_type": "code",
   "execution_count": 12,
   "metadata": {
    "collapsed": true
   },
   "outputs": [],
   "source": [
    "genreFeature = []\n",
    "for x in genres :\n",
    "    genreFeature.append(x[0])\n",
    "genreFeatureKeys = list(set(genreFeature))"
   ]
  },
  {
   "cell_type": "code",
   "execution_count": 13,
   "metadata": {},
   "outputs": [],
   "source": [
    "genres = ReturnGenres(movies.genres)"
   ]
  },
  {
   "cell_type": "code",
   "execution_count": 14,
   "metadata": {
    "collapsed": true
   },
   "outputs": [],
   "source": [
    "def ReturnGenreFeatures(genreSeries):\n",
    "    genreFeature = []\n",
    "    for genres in genreSeries :\n",
    "        genreList = genres.split('|')\n",
    "        genreFeature.append(genres)\n",
    "    return genreFeature"
   ]
  },
  {
   "cell_type": "code",
   "execution_count": 15,
   "metadata": {
    "collapsed": true
   },
   "outputs": [],
   "source": [
    "genreFeatures = ReturnGenreFeatures(movies.genres)"
   ]
  },
  {
   "cell_type": "code",
   "execution_count": 16,
   "metadata": {
    "collapsed": true
   },
   "outputs": [],
   "source": [
    "genreFeatureVector = []\n",
    "for genres in genreFeatures :\n",
    "    temp = [1 if(x in genres) else 0 for x in genreFeatureKeys ]\n",
    "    genreFeatureVector.append(temp)    "
   ]
  },
  {
   "cell_type": "code",
   "execution_count": 17,
   "metadata": {
    "collapsed": true
   },
   "outputs": [],
   "source": [
    "# Creating a Test Set of Movies for Evaluation of our algorithm"
   ]
  },
  {
   "cell_type": "code",
   "execution_count": 18,
   "metadata": {},
   "outputs": [
    {
     "name": "stderr",
     "output_type": "stream",
     "text": [
      "/usr/local/anaconda/lib/python2.7/site-packages/sklearn/cross_validation.py:41: DeprecationWarning: This module was deprecated in version 0.18 in favor of the model_selection module into which all the refactored classes and functions are moved. Also note that the interface of the new CV iterators are different from that of this module. This module will be removed in 0.20.\n",
      "  \"This module will be removed in 0.20.\", DeprecationWarning)\n"
     ]
    }
   ],
   "source": [
    "from sklearn.cross_validation import train_test_split"
   ]
  },
  {
   "cell_type": "code",
   "execution_count": 19,
   "metadata": {},
   "outputs": [
    {
     "name": "stderr",
     "output_type": "stream",
     "text": [
      "/usr/local/anaconda/lib/python2.7/site-packages/pandas/core/generic.py:3643: SettingWithCopyWarning: \n",
      "A value is trying to be set on a copy of a slice from a DataFrame.\n",
      "Try using .loc[row_indexer,col_indexer] = value instead\n",
      "\n",
      "See the caveats in the documentation: http://pandas.pydata.org/pandas-docs/stable/indexing.html#indexing-view-versus-copy\n",
      "  self[name] = value\n"
     ]
    }
   ],
   "source": [
    "trainDF, tempDF = train_test_split(ratings, test_size=0.2, random_state=100)\n",
    "testDF = tempDF.copy()\n",
    "tempDF.rating = np.nan"
   ]
  },
  {
   "cell_type": "code",
   "execution_count": 20,
   "metadata": {},
   "outputs": [],
   "source": [
    "testDF = testDF.dropna()"
   ]
  },
  {
   "cell_type": "code",
   "execution_count": 21,
   "metadata": {
    "collapsed": true
   },
   "outputs": [],
   "source": [
    "ratings = pd.concat([trainDF, tempDF]).reset_index()"
   ]
  },
  {
   "cell_type": "code",
   "execution_count": 22,
   "metadata": {
    "collapsed": true
   },
   "outputs": [],
   "source": [
    "ratingPivot = ratings.pivot(index='movieId', columns='userId', values='rating')"
   ]
  },
  {
   "cell_type": "code",
   "execution_count": 23,
   "metadata": {},
   "outputs": [],
   "source": [
    "ratingPivot = ratingPivot.reset_index()"
   ]
  },
  {
   "cell_type": "code",
   "execution_count": 24,
   "metadata": {},
   "outputs": [],
   "source": [
    "tempMovieIndDF = pd.DataFrame()\n",
    "tempMovieIndDF['Index'] = ratingPivot.index\n",
    "tempMovieIndDF['movieId'] = ratingPivot.movieId"
   ]
  },
  {
   "cell_type": "code",
   "execution_count": 25,
   "metadata": {
    "collapsed": true
   },
   "outputs": [],
   "source": [
    "testDF = testDF.merge(tempMovieIndDF, on='movieId')"
   ]
  },
  {
   "cell_type": "code",
   "execution_count": 26,
   "metadata": {},
   "outputs": [],
   "source": [
    "ratingPivot = ratingPivot.iloc[:,range(1,ratingPivot.shape[1])]"
   ]
  },
  {
   "cell_type": "code",
   "execution_count": 27,
   "metadata": {},
   "outputs": [],
   "source": [
    "def CalculateSimilarityWithMissing(v1, v2):\n",
    "    if (len(v1) != len(v2)) :\n",
    "        return None\n",
    "    \n",
    "    sumV1 = 0\n",
    "    sumV2 = 0\n",
    "    dot = 0\n",
    "    \n",
    "    v1Nan = np.isnan(v1)\n",
    "    v2Nan = np.isnan(v2)\n",
    "    v1[(v1Nan | v2Nan)] = 0\n",
    "    v2[(v1Nan | v2Nan)] = 0\n",
    "    \n",
    "    sumV1 = np.sqrt(np.sum(v1**2))\n",
    "    sumV2 = np.sqrt(np.sum(v1**2))\n",
    "    if((sumV1 == 0) or (sumV2 == 0)):\n",
    "        return 0\n",
    "    \n",
    "    dot = np.dot(v1, v2) / (sumV1 * sumV2) \n",
    "    \n",
    "    #for i,x in enumerate(v1) :\n",
    "    #    if(not(np.isnan(x)) and not(np.isnan(v2[i]))):\n",
    "    #        dot = dot + x*v2[i]\n",
    "    #        sumV1 = sumV1 + x**2\n",
    "    #        sumV2 = sumV2 + v2[i]**2\n",
    "    #sumV1 = np.sqrt(sumV1)\n",
    "    #sumV2 = np.sqrt(sumV2)\n",
    "    \n",
    "    return dot"
   ]
  },
  {
   "cell_type": "code",
   "execution_count": 28,
   "metadata": {},
   "outputs": [
    {
     "data": {
      "text/plain": [
       "(9066, 671)"
      ]
     },
     "execution_count": 28,
     "metadata": {},
     "output_type": "execute_result"
    }
   ],
   "source": [
    "ratingPivot.shape"
   ]
  },
  {
   "cell_type": "code",
   "execution_count": 29,
   "metadata": {
    "collapsed": true
   },
   "outputs": [],
   "source": [
    "ratingPivotMat = ratingPivot.as_matrix()"
   ]
  },
  {
   "cell_type": "code",
   "execution_count": 30,
   "metadata": {
    "collapsed": true
   },
   "outputs": [],
   "source": [
    "itemItemSimilarity = np.zeros((ratingPivot.shape[0], ratingPivot.shape[0]))\n",
    "for i in range(itemItemSimilarity.shape[0]):\n",
    "    itemItemSimilarity[i,i] = 1"
   ]
  },
  {
   "cell_type": "code",
   "execution_count": 31,
   "metadata": {
    "collapsed": true
   },
   "outputs": [],
   "source": [
    "import time"
   ]
  },
  {
   "cell_type": "code",
   "execution_count": 32,
   "metadata": {},
   "outputs": [
    {
     "data": {
      "text/plain": [
       "'Sat Nov 11 04:05:37 2017'"
      ]
     },
     "execution_count": 32,
     "metadata": {},
     "output_type": "execute_result"
    }
   ],
   "source": [
    "time.ctime()"
   ]
  },
  {
   "cell_type": "code",
   "execution_count": 33,
   "metadata": {},
   "outputs": [
    {
     "name": "stdout",
     "output_type": "stream",
     "text": [
      "0\n",
      "500\n",
      "1000\n",
      "1500\n",
      "2000\n",
      "2500\n",
      "3000\n",
      "3500\n",
      "4000\n",
      "4500\n",
      "5000\n",
      "5500\n",
      "6000\n",
      "6500\n",
      "7000\n",
      "7500\n",
      "8000\n",
      "8500\n",
      "9000\n"
     ]
    }
   ],
   "source": [
    "for i in range(itemItemSimilarity.shape[0]) :\n",
    "    for j in range(0,i) :\n",
    "        itemItemSimilarity[i,j] = CalculateSimilarityWithMissing(ratingPivotMat[i,:], ratingPivotMat[j,:])\n",
    "    if((i%500) == 0):\n",
    "        print i"
   ]
  },
  {
   "cell_type": "code",
   "execution_count": 34,
   "metadata": {},
   "outputs": [
    {
     "data": {
      "text/plain": [
       "'Sat Nov 11 04:25:25 2017'"
      ]
     },
     "execution_count": 34,
     "metadata": {},
     "output_type": "execute_result"
    }
   ],
   "source": [
    "time.ctime()"
   ]
  },
  {
   "cell_type": "code",
   "execution_count": 35,
   "metadata": {},
   "outputs": [],
   "source": [
    "for i in range(itemItemSimilarity.shape[0]) :\n",
    "    for j in range(0,i) :\n",
    "        itemItemSimilarity[j,i] = itemItemSimilarity[i,j] #CalculateSimilarityWithMissing(ratingPivotMat[i,:], ratingPivotMat[j,:])"
   ]
  },
  {
   "cell_type": "code",
   "execution_count": 36,
   "metadata": {
    "collapsed": true
   },
   "outputs": [],
   "source": [
    "#Generating Recommendations"
   ]
  },
  {
   "cell_type": "code",
   "execution_count": 38,
   "metadata": {},
   "outputs": [
    {
     "ename": "NameError",
     "evalue": "name 'tempItems' is not defined",
     "output_type": "error",
     "traceback": [
      "\u001b[0;31m\u001b[0m",
      "\u001b[0;31mNameError\u001b[0mTraceback (most recent call last)",
      "\u001b[0;32m<ipython-input-38-8f745f90b200>\u001b[0m in \u001b[0;36m<module>\u001b[0;34m()\u001b[0m\n\u001b[1;32m      1\u001b[0m \u001b[0musers\u001b[0m \u001b[0;34m=\u001b[0m \u001b[0mnp\u001b[0m\u001b[0;34m.\u001b[0m\u001b[0mtranspose\u001b[0m\u001b[0;34m(\u001b[0m\u001b[0mratingPivotMat\u001b[0m\u001b[0;34m)\u001b[0m\u001b[0;34m\u001b[0m\u001b[0m\n\u001b[0;32m----> 2\u001b[0;31m \u001b[0mrecommends\u001b[0m \u001b[0;34m=\u001b[0m \u001b[0mnp\u001b[0m\u001b[0;34m.\u001b[0m\u001b[0mdot\u001b[0m\u001b[0;34m(\u001b[0m\u001b[0musers\u001b[0m\u001b[0;34m,\u001b[0m\u001b[0mitemItemSimilarity\u001b[0m\u001b[0;34m)\u001b[0m \u001b[0;34m/\u001b[0m \u001b[0mtempItems\u001b[0m\u001b[0;34m\u001b[0m\u001b[0m\n\u001b[0m",
      "\u001b[0;31mNameError\u001b[0m: name 'tempItems' is not defined"
     ]
    }
   ],
   "source": [
    "users = np.transpose(ratingPivotMat)\n",
    "recommends = np.dot(users,itemItemSimilarity) / tempItems"
   ]
  },
  {
   "cell_type": "code",
   "execution_count": 142,
   "metadata": {},
   "outputs": [
    {
     "data": {
      "text/plain": [
       "(671L, 9066L)"
      ]
     },
     "execution_count": 142,
     "metadata": {},
     "output_type": "execute_result"
    }
   ],
   "source": [
    "recommends.shape"
   ]
  },
  {
   "cell_type": "code",
   "execution_count": 37,
   "metadata": {},
   "outputs": [
    {
     "ename": "NameError",
     "evalue": "name 'users' is not defined",
     "output_type": "error",
     "traceback": [
      "\u001b[0;31m\u001b[0m",
      "\u001b[0;31mNameError\u001b[0mTraceback (most recent call last)",
      "\u001b[0;32m<ipython-input-37-ac1d2d2b16c4>\u001b[0m in \u001b[0;36m<module>\u001b[0;34m()\u001b[0m\n\u001b[0;32m----> 1\u001b[0;31m \u001b[0mtempUsers\u001b[0m \u001b[0;34m=\u001b[0m \u001b[0musers\u001b[0m\u001b[0;34m.\u001b[0m\u001b[0mcopy\u001b[0m\u001b[0;34m(\u001b[0m\u001b[0;34m)\u001b[0m\u001b[0;34m\u001b[0m\u001b[0m\n\u001b[0m\u001b[1;32m      2\u001b[0m \u001b[0mtempUsers\u001b[0m\u001b[0;34m[\u001b[0m\u001b[0mtempUsers\u001b[0m \u001b[0;34m>\u001b[0m \u001b[0;36m0\u001b[0m\u001b[0;34m]\u001b[0m \u001b[0;34m=\u001b[0m \u001b[0;36m1\u001b[0m\u001b[0;34m\u001b[0m\u001b[0m\n",
      "\u001b[0;31mNameError\u001b[0m: name 'users' is not defined"
     ]
    }
   ],
   "source": [
    "tempUsers = users.copy()\n",
    "tempUsers[tempUsers > 0] = 1"
   ]
  },
  {
   "cell_type": "code",
   "execution_count": 140,
   "metadata": {},
   "outputs": [
    {
     "data": {
      "text/plain": [
       "(671L, 9066L)"
      ]
     },
     "execution_count": 140,
     "metadata": {},
     "output_type": "execute_result"
    }
   ],
   "source": [
    "tempItems.shape"
   ]
  },
  {
   "cell_type": "code",
   "execution_count": 139,
   "metadata": {
    "collapsed": true
   },
   "outputs": [],
   "source": [
    "tempItems = np.dot(tempUsers, itemItemSimilarity)"
   ]
  },
  {
   "cell_type": "code",
   "execution_count": 131,
   "metadata": {
    "collapsed": true
   },
   "outputs": [],
   "source": [
    "# Evaluation"
   ]
  },
  {
   "cell_type": "code",
   "execution_count": 143,
   "metadata": {
    "collapsed": true
   },
   "outputs": [],
   "source": [
    "from sklearn.metrics import mean_squared_error\n",
    "from math import sqrt\n",
    "def rmse(prediction, ground_truth):\n",
    "    prediction = prediction[ground_truth.nonzero()].flatten()\n",
    "    ground_truth = ground_truth[ground_truth.nonzero()].flatten()\n",
    "    return sqrt(mean_squared_error(prediction, ground_truth))"
   ]
  },
  {
   "cell_type": "code",
   "execution_count": 144,
   "metadata": {},
   "outputs": [],
   "source": [
    "predict = []\n",
    "for i in range(testDF.shape[0]):\n",
    "    x = (testDF.userId[i], testDF.Index[i])\n",
    "    predict.append(recommends[(x[0]-1),x[1]])\n",
    "testDF['Predicted_Rating'] = predict"
   ]
  },
  {
   "cell_type": "code",
   "execution_count": 145,
   "metadata": {},
   "outputs": [
    {
     "data": {
      "text/html": [
       "<div>\n",
       "<table border=\"1\" class=\"dataframe\">\n",
       "  <thead>\n",
       "    <tr style=\"text-align: right;\">\n",
       "      <th></th>\n",
       "      <th>index</th>\n",
       "      <th>userId</th>\n",
       "      <th>movieId</th>\n",
       "      <th>rating</th>\n",
       "      <th>timestamp</th>\n",
       "      <th>Index</th>\n",
       "      <th>Predicted_Rating</th>\n",
       "    </tr>\n",
       "  </thead>\n",
       "  <tbody>\n",
       "    <tr>\n",
       "      <th>0</th>\n",
       "      <td>40057</td>\n",
       "      <td>292</td>\n",
       "      <td>7438</td>\n",
       "      <td>4.5</td>\n",
       "      <td>1140149094</td>\n",
       "      <td>5141</td>\n",
       "      <td>4.023252</td>\n",
       "    </tr>\n",
       "    <tr>\n",
       "      <th>1</th>\n",
       "      <td>15056</td>\n",
       "      <td>98</td>\n",
       "      <td>7438</td>\n",
       "      <td>5.0</td>\n",
       "      <td>1459405098</td>\n",
       "      <td>5141</td>\n",
       "      <td>4.193793</td>\n",
       "    </tr>\n",
       "    <tr>\n",
       "      <th>2</th>\n",
       "      <td>92715</td>\n",
       "      <td>615</td>\n",
       "      <td>7438</td>\n",
       "      <td>4.0</td>\n",
       "      <td>1408778718</td>\n",
       "      <td>5141</td>\n",
       "      <td>3.498541</td>\n",
       "    </tr>\n",
       "    <tr>\n",
       "      <th>3</th>\n",
       "      <td>3990</td>\n",
       "      <td>22</td>\n",
       "      <td>7438</td>\n",
       "      <td>4.5</td>\n",
       "      <td>1131663403</td>\n",
       "      <td>5141</td>\n",
       "      <td>3.617531</td>\n",
       "    </tr>\n",
       "    <tr>\n",
       "      <th>4</th>\n",
       "      <td>37377</td>\n",
       "      <td>268</td>\n",
       "      <td>7438</td>\n",
       "      <td>5.0</td>\n",
       "      <td>1314895350</td>\n",
       "      <td>5141</td>\n",
       "      <td>3.555000</td>\n",
       "    </tr>\n",
       "    <tr>\n",
       "      <th>5</th>\n",
       "      <td>78155</td>\n",
       "      <td>544</td>\n",
       "      <td>7438</td>\n",
       "      <td>4.5</td>\n",
       "      <td>1435786267</td>\n",
       "      <td>5141</td>\n",
       "      <td>4.476286</td>\n",
       "    </tr>\n",
       "    <tr>\n",
       "      <th>6</th>\n",
       "      <td>94464</td>\n",
       "      <td>624</td>\n",
       "      <td>7438</td>\n",
       "      <td>3.5</td>\n",
       "      <td>1083742391</td>\n",
       "      <td>5141</td>\n",
       "      <td>2.304727</td>\n",
       "    </tr>\n",
       "    <tr>\n",
       "      <th>7</th>\n",
       "      <td>14440</td>\n",
       "      <td>94</td>\n",
       "      <td>7438</td>\n",
       "      <td>2.0</td>\n",
       "      <td>1291779607</td>\n",
       "      <td>5141</td>\n",
       "      <td>3.592337</td>\n",
       "    </tr>\n",
       "    <tr>\n",
       "      <th>8</th>\n",
       "      <td>48200</td>\n",
       "      <td>353</td>\n",
       "      <td>7438</td>\n",
       "      <td>3.5</td>\n",
       "      <td>1112268544</td>\n",
       "      <td>5141</td>\n",
       "      <td>2.717344</td>\n",
       "    </tr>\n",
       "    <tr>\n",
       "      <th>9</th>\n",
       "      <td>16119</td>\n",
       "      <td>103</td>\n",
       "      <td>7438</td>\n",
       "      <td>5.0</td>\n",
       "      <td>1117404267</td>\n",
       "      <td>5141</td>\n",
       "      <td>3.846212</td>\n",
       "    </tr>\n",
       "    <tr>\n",
       "      <th>10</th>\n",
       "      <td>6726</td>\n",
       "      <td>38</td>\n",
       "      <td>7438</td>\n",
       "      <td>3.5</td>\n",
       "      <td>1416075321</td>\n",
       "      <td>5141</td>\n",
       "      <td>4.279604</td>\n",
       "    </tr>\n",
       "    <tr>\n",
       "      <th>11</th>\n",
       "      <td>51135</td>\n",
       "      <td>379</td>\n",
       "      <td>7438</td>\n",
       "      <td>3.0</td>\n",
       "      <td>1378180338</td>\n",
       "      <td>5141</td>\n",
       "      <td>3.857083</td>\n",
       "    </tr>\n",
       "    <tr>\n",
       "      <th>12</th>\n",
       "      <td>46059</td>\n",
       "      <td>332</td>\n",
       "      <td>7438</td>\n",
       "      <td>5.0</td>\n",
       "      <td>1147971965</td>\n",
       "      <td>5141</td>\n",
       "      <td>3.791468</td>\n",
       "    </tr>\n",
       "    <tr>\n",
       "      <th>13</th>\n",
       "      <td>24956</td>\n",
       "      <td>181</td>\n",
       "      <td>7438</td>\n",
       "      <td>5.0</td>\n",
       "      <td>1154542948</td>\n",
       "      <td>5141</td>\n",
       "      <td>4.546050</td>\n",
       "    </tr>\n",
       "    <tr>\n",
       "      <th>14</th>\n",
       "      <td>12310</td>\n",
       "      <td>77</td>\n",
       "      <td>7438</td>\n",
       "      <td>3.5</td>\n",
       "      <td>1163004517</td>\n",
       "      <td>5141</td>\n",
       "      <td>3.231234</td>\n",
       "    </tr>\n",
       "    <tr>\n",
       "      <th>15</th>\n",
       "      <td>47086</td>\n",
       "      <td>345</td>\n",
       "      <td>7438</td>\n",
       "      <td>4.5</td>\n",
       "      <td>1109289632</td>\n",
       "      <td>5141</td>\n",
       "      <td>4.020055</td>\n",
       "    </tr>\n",
       "    <tr>\n",
       "      <th>16</th>\n",
       "      <td>89028</td>\n",
       "      <td>593</td>\n",
       "      <td>150</td>\n",
       "      <td>4.0</td>\n",
       "      <td>835462855</td>\n",
       "      <td>129</td>\n",
       "      <td>3.872643</td>\n",
       "    </tr>\n",
       "    <tr>\n",
       "      <th>17</th>\n",
       "      <td>28411</td>\n",
       "      <td>212</td>\n",
       "      <td>150</td>\n",
       "      <td>4.0</td>\n",
       "      <td>1218403258</td>\n",
       "      <td>129</td>\n",
       "      <td>2.957756</td>\n",
       "    </tr>\n",
       "    <tr>\n",
       "      <th>18</th>\n",
       "      <td>37086</td>\n",
       "      <td>268</td>\n",
       "      <td>150</td>\n",
       "      <td>4.5</td>\n",
       "      <td>1314894059</td>\n",
       "      <td>129</td>\n",
       "      <td>3.489038</td>\n",
       "    </tr>\n",
       "    <tr>\n",
       "      <th>19</th>\n",
       "      <td>25182</td>\n",
       "      <td>185</td>\n",
       "      <td>150</td>\n",
       "      <td>3.0</td>\n",
       "      <td>1003524274</td>\n",
       "      <td>129</td>\n",
       "      <td>3.519698</td>\n",
       "    </tr>\n",
       "    <tr>\n",
       "      <th>20</th>\n",
       "      <td>16126</td>\n",
       "      <td>104</td>\n",
       "      <td>150</td>\n",
       "      <td>4.0</td>\n",
       "      <td>1446674277</td>\n",
       "      <td>129</td>\n",
       "      <td>3.968569</td>\n",
       "    </tr>\n",
       "    <tr>\n",
       "      <th>21</th>\n",
       "      <td>53710</td>\n",
       "      <td>388</td>\n",
       "      <td>150</td>\n",
       "      <td>4.5</td>\n",
       "      <td>1097625220</td>\n",
       "      <td>129</td>\n",
       "      <td>3.573396</td>\n",
       "    </tr>\n",
       "    <tr>\n",
       "      <th>22</th>\n",
       "      <td>16878</td>\n",
       "      <td>110</td>\n",
       "      <td>150</td>\n",
       "      <td>5.0</td>\n",
       "      <td>840100361</td>\n",
       "      <td>129</td>\n",
       "      <td>4.095059</td>\n",
       "    </tr>\n",
       "    <tr>\n",
       "      <th>23</th>\n",
       "      <td>25759</td>\n",
       "      <td>188</td>\n",
       "      <td>150</td>\n",
       "      <td>5.0</td>\n",
       "      <td>841063490</td>\n",
       "      <td>129</td>\n",
       "      <td>3.571025</td>\n",
       "    </tr>\n",
       "    <tr>\n",
       "      <th>24</th>\n",
       "      <td>82667</td>\n",
       "      <td>563</td>\n",
       "      <td>150</td>\n",
       "      <td>2.5</td>\n",
       "      <td>1380354913</td>\n",
       "      <td>129</td>\n",
       "      <td>3.587422</td>\n",
       "    </tr>\n",
       "    <tr>\n",
       "      <th>25</th>\n",
       "      <td>72247</td>\n",
       "      <td>508</td>\n",
       "      <td>150</td>\n",
       "      <td>5.0</td>\n",
       "      <td>844375898</td>\n",
       "      <td>129</td>\n",
       "      <td>3.812901</td>\n",
       "    </tr>\n",
       "    <tr>\n",
       "      <th>26</th>\n",
       "      <td>81519</td>\n",
       "      <td>555</td>\n",
       "      <td>150</td>\n",
       "      <td>3.0</td>\n",
       "      <td>842288304</td>\n",
       "      <td>129</td>\n",
       "      <td>3.139294</td>\n",
       "    </tr>\n",
       "    <tr>\n",
       "      <th>27</th>\n",
       "      <td>60684</td>\n",
       "      <td>441</td>\n",
       "      <td>150</td>\n",
       "      <td>3.5</td>\n",
       "      <td>1078145987</td>\n",
       "      <td>129</td>\n",
       "      <td>3.383711</td>\n",
       "    </tr>\n",
       "    <tr>\n",
       "      <th>28</th>\n",
       "      <td>26236</td>\n",
       "      <td>194</td>\n",
       "      <td>150</td>\n",
       "      <td>4.0</td>\n",
       "      <td>848098173</td>\n",
       "      <td>129</td>\n",
       "      <td>3.493129</td>\n",
       "    </tr>\n",
       "    <tr>\n",
       "      <th>29</th>\n",
       "      <td>77048</td>\n",
       "      <td>534</td>\n",
       "      <td>150</td>\n",
       "      <td>5.0</td>\n",
       "      <td>973377664</td>\n",
       "      <td>129</td>\n",
       "      <td>3.648323</td>\n",
       "    </tr>\n",
       "    <tr>\n",
       "      <th>...</th>\n",
       "      <td>...</td>\n",
       "      <td>...</td>\n",
       "      <td>...</td>\n",
       "      <td>...</td>\n",
       "      <td>...</td>\n",
       "      <td>...</td>\n",
       "      <td>...</td>\n",
       "    </tr>\n",
       "    <tr>\n",
       "      <th>15951</th>\n",
       "      <td>80090</td>\n",
       "      <td>547</td>\n",
       "      <td>25999</td>\n",
       "      <td>4.5</td>\n",
       "      <td>1131165770</td>\n",
       "      <td>5700</td>\n",
       "      <td>3.490411</td>\n",
       "    </tr>\n",
       "    <tr>\n",
       "      <th>15952</th>\n",
       "      <td>76534</td>\n",
       "      <td>529</td>\n",
       "      <td>26325</td>\n",
       "      <td>4.0</td>\n",
       "      <td>1303320956</td>\n",
       "      <td>5761</td>\n",
       "      <td>3.720199</td>\n",
       "    </tr>\n",
       "    <tr>\n",
       "      <th>15953</th>\n",
       "      <td>43034</td>\n",
       "      <td>306</td>\n",
       "      <td>3690</td>\n",
       "      <td>2.0</td>\n",
       "      <td>959197163</td>\n",
       "      <td>2944</td>\n",
       "      <td>3.579161</td>\n",
       "    </tr>\n",
       "    <tr>\n",
       "      <th>15954</th>\n",
       "      <td>80201</td>\n",
       "      <td>547</td>\n",
       "      <td>34338</td>\n",
       "      <td>4.5</td>\n",
       "      <td>1131634924</td>\n",
       "      <td>6173</td>\n",
       "      <td>3.429422</td>\n",
       "    </tr>\n",
       "    <tr>\n",
       "      <th>15955</th>\n",
       "      <td>80038</td>\n",
       "      <td>547</td>\n",
       "      <td>8828</td>\n",
       "      <td>3.0</td>\n",
       "      <td>1118548833</td>\n",
       "      <td>5543</td>\n",
       "      <td>3.580269</td>\n",
       "    </tr>\n",
       "    <tr>\n",
       "      <th>15956</th>\n",
       "      <td>29636</td>\n",
       "      <td>213</td>\n",
       "      <td>4876</td>\n",
       "      <td>2.0</td>\n",
       "      <td>1462639759</td>\n",
       "      <td>3798</td>\n",
       "      <td>2.802758</td>\n",
       "    </tr>\n",
       "    <tr>\n",
       "      <th>15957</th>\n",
       "      <td>88051</td>\n",
       "      <td>585</td>\n",
       "      <td>3096</td>\n",
       "      <td>5.0</td>\n",
       "      <td>975362136</td>\n",
       "      <td>2488</td>\n",
       "      <td>4.364170</td>\n",
       "    </tr>\n",
       "    <tr>\n",
       "      <th>15958</th>\n",
       "      <td>16310</td>\n",
       "      <td>105</td>\n",
       "      <td>1027</td>\n",
       "      <td>3.0</td>\n",
       "      <td>1085579881</td>\n",
       "      <td>831</td>\n",
       "      <td>3.259770</td>\n",
       "    </tr>\n",
       "    <tr>\n",
       "      <th>15959</th>\n",
       "      <td>11228</td>\n",
       "      <td>73</td>\n",
       "      <td>27800</td>\n",
       "      <td>3.5</td>\n",
       "      <td>1255947240</td>\n",
       "      <td>5934</td>\n",
       "      <td>3.288610</td>\n",
       "    </tr>\n",
       "    <tr>\n",
       "      <th>15960</th>\n",
       "      <td>27866</td>\n",
       "      <td>202</td>\n",
       "      <td>4915</td>\n",
       "      <td>3.0</td>\n",
       "      <td>1046145833</td>\n",
       "      <td>3820</td>\n",
       "      <td>3.683802</td>\n",
       "    </tr>\n",
       "    <tr>\n",
       "      <th>15961</th>\n",
       "      <td>44100</td>\n",
       "      <td>311</td>\n",
       "      <td>4585</td>\n",
       "      <td>3.5</td>\n",
       "      <td>1093022303</td>\n",
       "      <td>3607</td>\n",
       "      <td>3.173484</td>\n",
       "    </tr>\n",
       "    <tr>\n",
       "      <th>15962</th>\n",
       "      <td>50698</td>\n",
       "      <td>373</td>\n",
       "      <td>2246</td>\n",
       "      <td>2.0</td>\n",
       "      <td>939037390</td>\n",
       "      <td>1774</td>\n",
       "      <td>4.016906</td>\n",
       "    </tr>\n",
       "    <tr>\n",
       "      <th>15963</th>\n",
       "      <td>27186</td>\n",
       "      <td>199</td>\n",
       "      <td>8581</td>\n",
       "      <td>3.0</td>\n",
       "      <td>1214654799</td>\n",
       "      <td>5448</td>\n",
       "      <td>3.578755</td>\n",
       "    </tr>\n",
       "    <tr>\n",
       "      <th>15964</th>\n",
       "      <td>64044</td>\n",
       "      <td>460</td>\n",
       "      <td>5034</td>\n",
       "      <td>4.0</td>\n",
       "      <td>1072836851</td>\n",
       "      <td>3898</td>\n",
       "      <td>3.977842</td>\n",
       "    </tr>\n",
       "    <tr>\n",
       "      <th>15965</th>\n",
       "      <td>93391</td>\n",
       "      <td>621</td>\n",
       "      <td>6125</td>\n",
       "      <td>3.5</td>\n",
       "      <td>1116476408</td>\n",
       "      <td>4473</td>\n",
       "      <td>4.085109</td>\n",
       "    </tr>\n",
       "    <tr>\n",
       "      <th>15966</th>\n",
       "      <td>12832</td>\n",
       "      <td>81</td>\n",
       "      <td>31930</td>\n",
       "      <td>4.0</td>\n",
       "      <td>1307180362</td>\n",
       "      <td>6043</td>\n",
       "      <td>4.097359</td>\n",
       "    </tr>\n",
       "    <tr>\n",
       "      <th>15967</th>\n",
       "      <td>38151</td>\n",
       "      <td>275</td>\n",
       "      <td>96911</td>\n",
       "      <td>5.0</td>\n",
       "      <td>1386885104</td>\n",
       "      <td>8124</td>\n",
       "      <td>4.588747</td>\n",
       "    </tr>\n",
       "    <tr>\n",
       "      <th>15968</th>\n",
       "      <td>56211</td>\n",
       "      <td>405</td>\n",
       "      <td>5603</td>\n",
       "      <td>4.5</td>\n",
       "      <td>1061359113</td>\n",
       "      <td>4216</td>\n",
       "      <td>3.852405</td>\n",
       "    </tr>\n",
       "    <tr>\n",
       "      <th>15969</th>\n",
       "      <td>96921</td>\n",
       "      <td>648</td>\n",
       "      <td>36527</td>\n",
       "      <td>4.0</td>\n",
       "      <td>1138478635</td>\n",
       "      <td>6201</td>\n",
       "      <td>3.718259</td>\n",
       "    </tr>\n",
       "    <tr>\n",
       "      <th>15970</th>\n",
       "      <td>62809</td>\n",
       "      <td>453</td>\n",
       "      <td>1681</td>\n",
       "      <td>4.0</td>\n",
       "      <td>994622648</td>\n",
       "      <td>1335</td>\n",
       "      <td>3.631019</td>\n",
       "    </tr>\n",
       "    <tr>\n",
       "      <th>15971</th>\n",
       "      <td>26007</td>\n",
       "      <td>189</td>\n",
       "      <td>3771</td>\n",
       "      <td>1.0</td>\n",
       "      <td>968094946</td>\n",
       "      <td>3017</td>\n",
       "      <td>2.917314</td>\n",
       "    </tr>\n",
       "    <tr>\n",
       "      <th>15972</th>\n",
       "      <td>11070</td>\n",
       "      <td>73</td>\n",
       "      <td>6593</td>\n",
       "      <td>0.5</td>\n",
       "      <td>1256029804</td>\n",
       "      <td>4708</td>\n",
       "      <td>3.262857</td>\n",
       "    </tr>\n",
       "    <tr>\n",
       "      <th>15973</th>\n",
       "      <td>69658</td>\n",
       "      <td>481</td>\n",
       "      <td>5560</td>\n",
       "      <td>4.5</td>\n",
       "      <td>1437003744</td>\n",
       "      <td>4195</td>\n",
       "      <td>4.387607</td>\n",
       "    </tr>\n",
       "    <tr>\n",
       "      <th>15974</th>\n",
       "      <td>84634</td>\n",
       "      <td>564</td>\n",
       "      <td>3833</td>\n",
       "      <td>5.0</td>\n",
       "      <td>974709973</td>\n",
       "      <td>3064</td>\n",
       "      <td>3.936767</td>\n",
       "    </tr>\n",
       "    <tr>\n",
       "      <th>15975</th>\n",
       "      <td>76491</td>\n",
       "      <td>529</td>\n",
       "      <td>7216</td>\n",
       "      <td>3.5</td>\n",
       "      <td>1130284620</td>\n",
       "      <td>5054</td>\n",
       "      <td>3.693142</td>\n",
       "    </tr>\n",
       "    <tr>\n",
       "      <th>15976</th>\n",
       "      <td>87550</td>\n",
       "      <td>582</td>\n",
       "      <td>4188</td>\n",
       "      <td>5.0</td>\n",
       "      <td>1122167800</td>\n",
       "      <td>3337</td>\n",
       "      <td>3.878688</td>\n",
       "    </tr>\n",
       "    <tr>\n",
       "      <th>15977</th>\n",
       "      <td>83205</td>\n",
       "      <td>564</td>\n",
       "      <td>695</td>\n",
       "      <td>4.0</td>\n",
       "      <td>974791183</td>\n",
       "      <td>589</td>\n",
       "      <td>3.360241</td>\n",
       "    </tr>\n",
       "    <tr>\n",
       "      <th>15978</th>\n",
       "      <td>16625</td>\n",
       "      <td>105</td>\n",
       "      <td>4772</td>\n",
       "      <td>4.0</td>\n",
       "      <td>1086275259</td>\n",
       "      <td>3738</td>\n",
       "      <td>3.418359</td>\n",
       "    </tr>\n",
       "    <tr>\n",
       "      <th>15979</th>\n",
       "      <td>80044</td>\n",
       "      <td>547</td>\n",
       "      <td>8903</td>\n",
       "      <td>3.5</td>\n",
       "      <td>1199559995</td>\n",
       "      <td>5577</td>\n",
       "      <td>3.549736</td>\n",
       "    </tr>\n",
       "    <tr>\n",
       "      <th>15980</th>\n",
       "      <td>80376</td>\n",
       "      <td>547</td>\n",
       "      <td>57430</td>\n",
       "      <td>3.5</td>\n",
       "      <td>1297948719</td>\n",
       "      <td>6852</td>\n",
       "      <td>3.651088</td>\n",
       "    </tr>\n",
       "  </tbody>\n",
       "</table>\n",
       "<p>15981 rows × 7 columns</p>\n",
       "</div>"
      ],
      "text/plain": [
       "       index  userId  movieId  rating   timestamp  Index  Predicted_Rating\n",
       "0      40057     292     7438     4.5  1140149094   5141          4.023252\n",
       "1      15056      98     7438     5.0  1459405098   5141          4.193793\n",
       "2      92715     615     7438     4.0  1408778718   5141          3.498541\n",
       "3       3990      22     7438     4.5  1131663403   5141          3.617531\n",
       "4      37377     268     7438     5.0  1314895350   5141          3.555000\n",
       "5      78155     544     7438     4.5  1435786267   5141          4.476286\n",
       "6      94464     624     7438     3.5  1083742391   5141          2.304727\n",
       "7      14440      94     7438     2.0  1291779607   5141          3.592337\n",
       "8      48200     353     7438     3.5  1112268544   5141          2.717344\n",
       "9      16119     103     7438     5.0  1117404267   5141          3.846212\n",
       "10      6726      38     7438     3.5  1416075321   5141          4.279604\n",
       "11     51135     379     7438     3.0  1378180338   5141          3.857083\n",
       "12     46059     332     7438     5.0  1147971965   5141          3.791468\n",
       "13     24956     181     7438     5.0  1154542948   5141          4.546050\n",
       "14     12310      77     7438     3.5  1163004517   5141          3.231234\n",
       "15     47086     345     7438     4.5  1109289632   5141          4.020055\n",
       "16     89028     593      150     4.0   835462855    129          3.872643\n",
       "17     28411     212      150     4.0  1218403258    129          2.957756\n",
       "18     37086     268      150     4.5  1314894059    129          3.489038\n",
       "19     25182     185      150     3.0  1003524274    129          3.519698\n",
       "20     16126     104      150     4.0  1446674277    129          3.968569\n",
       "21     53710     388      150     4.5  1097625220    129          3.573396\n",
       "22     16878     110      150     5.0   840100361    129          4.095059\n",
       "23     25759     188      150     5.0   841063490    129          3.571025\n",
       "24     82667     563      150     2.5  1380354913    129          3.587422\n",
       "25     72247     508      150     5.0   844375898    129          3.812901\n",
       "26     81519     555      150     3.0   842288304    129          3.139294\n",
       "27     60684     441      150     3.5  1078145987    129          3.383711\n",
       "28     26236     194      150     4.0   848098173    129          3.493129\n",
       "29     77048     534      150     5.0   973377664    129          3.648323\n",
       "...      ...     ...      ...     ...         ...    ...               ...\n",
       "15951  80090     547    25999     4.5  1131165770   5700          3.490411\n",
       "15952  76534     529    26325     4.0  1303320956   5761          3.720199\n",
       "15953  43034     306     3690     2.0   959197163   2944          3.579161\n",
       "15954  80201     547    34338     4.5  1131634924   6173          3.429422\n",
       "15955  80038     547     8828     3.0  1118548833   5543          3.580269\n",
       "15956  29636     213     4876     2.0  1462639759   3798          2.802758\n",
       "15957  88051     585     3096     5.0   975362136   2488          4.364170\n",
       "15958  16310     105     1027     3.0  1085579881    831          3.259770\n",
       "15959  11228      73    27800     3.5  1255947240   5934          3.288610\n",
       "15960  27866     202     4915     3.0  1046145833   3820          3.683802\n",
       "15961  44100     311     4585     3.5  1093022303   3607          3.173484\n",
       "15962  50698     373     2246     2.0   939037390   1774          4.016906\n",
       "15963  27186     199     8581     3.0  1214654799   5448          3.578755\n",
       "15964  64044     460     5034     4.0  1072836851   3898          3.977842\n",
       "15965  93391     621     6125     3.5  1116476408   4473          4.085109\n",
       "15966  12832      81    31930     4.0  1307180362   6043          4.097359\n",
       "15967  38151     275    96911     5.0  1386885104   8124          4.588747\n",
       "15968  56211     405     5603     4.5  1061359113   4216          3.852405\n",
       "15969  96921     648    36527     4.0  1138478635   6201          3.718259\n",
       "15970  62809     453     1681     4.0   994622648   1335          3.631019\n",
       "15971  26007     189     3771     1.0   968094946   3017          2.917314\n",
       "15972  11070      73     6593     0.5  1256029804   4708          3.262857\n",
       "15973  69658     481     5560     4.5  1437003744   4195          4.387607\n",
       "15974  84634     564     3833     5.0   974709973   3064          3.936767\n",
       "15975  76491     529     7216     3.5  1130284620   5054          3.693142\n",
       "15976  87550     582     4188     5.0  1122167800   3337          3.878688\n",
       "15977  83205     564      695     4.0   974791183    589          3.360241\n",
       "15978  16625     105     4772     4.0  1086275259   3738          3.418359\n",
       "15979  80044     547     8903     3.5  1199559995   5577          3.549736\n",
       "15980  80376     547    57430     3.5  1297948719   6852          3.651088\n",
       "\n",
       "[15981 rows x 7 columns]"
      ]
     },
     "execution_count": 145,
     "metadata": {},
     "output_type": "execute_result"
    }
   ],
   "source": [
    "testDF"
   ]
  },
  {
   "cell_type": "code",
   "execution_count": null,
   "metadata": {
    "collapsed": true
   },
   "outputs": [],
   "source": []
  }
 ],
 "metadata": {
  "anaconda-cloud": {},
  "kernelspec": {
   "display_name": "Python 3",
   "language": "python",
   "name": "python3"
  },
  "language_info": {
   "codemirror_mode": {
    "name": "ipython",
    "version": 3
   },
   "file_extension": ".py",
   "mimetype": "text/x-python",
   "name": "python",
   "nbconvert_exporter": "python",
   "pygments_lexer": "ipython3",
   "version": "3.7.0"
  }
 },
 "nbformat": 4,
 "nbformat_minor": 1
}
