{
 "cells": [
  {
   "cell_type": "markdown",
   "metadata": {},
   "source": [
    "# Dimensionality Reduction\n",
    "\n",
    "Advantages:\n",
    "1. Space required to store data reduces\n",
    "2. Computation time/ Training time reduces\n",
    "3. Multi-colinearity is taken into account so that redundant features are removed\n",
    "4. Helps better visualization of data"
   ]
  },
  {
   "cell_type": "markdown",
   "metadata": {},
   "source": [
    "## 1. Missing values ratio\n",
    "\n",
    "- If any feature in the data set has more than 50% of the data values missing then it is very important to reconsider the value feature will add to the model. If more than 50% of the data values are missing then the feature is not much informative and based on the a particular threshold value we can drop the feature."
   ]
  },
  {
   "cell_type": "code",
   "execution_count": null,
   "metadata": {},
   "outputs": [],
   "source": [
    "import pandas as pd\n",
    "\n",
    "# read the data\n",
    "df = pd.read_csv(\"Train_UWu5bXk.csv\")"
   ]
  },
  {
   "cell_type": "code",
   "execution_count": null,
   "metadata": {},
   "outputs": [],
   "source": [
    "# Checking percentage of missing values in each variables\n",
    "\n",
    "missingValues_percentage = df.isnull().sum /len(df) * 100"
   ]
  },
  {
   "cell_type": "code",
   "execution_count": null,
   "metadata": {},
   "outputs": [],
   "source": [
    "# Set a threshold and drop feature if the value is more than a threshold value\n",
    "features = []\n",
    "for var in missingValues_percentage:\n",
    "    if(var <=  20):\n",
    "        features.append(var)"
   ]
  },
  {
   "cell_type": "markdown",
   "metadata": {},
   "source": [
    "## 2. Lower Variance Filter\n",
    "COnsider a dataset having a feature where all the values are same. This does not make sense to make this a feature as \n",
    "the variance of the feature is zero and will have no contribution towards model building.\n",
    "\n",
    "Variance threshold can be set for the same"
   ]
  },
  {
   "cell_type": "code",
   "execution_count": null,
   "metadata": {},
   "outputs": [],
   "source": [
    "df.var()"
   ]
  },
  {
   "cell_type": "markdown",
   "metadata": {},
   "source": [
    "## 3. High Corelation Filter\n",
    "- If 2 or more features have similar trends and likely to carry similar information then they said to have high co-\n",
    "relaton. If the co-relation factor is 0.5-0.6 and above then one needs to take care of the feature in the model building\n"
   ]
  },
  {
   "cell_type": "code",
   "execution_count": null,
   "metadata": {},
   "outputs": [],
   "source": [
    "df.corr()"
   ]
  },
  {
   "cell_type": "markdown",
   "metadata": {},
   "source": [
    "## 4. RandomForest for Feature importance\n",
    "\n",
    "- Randomforest is the most widely used algo for finding feature importance"
   ]
  },
  {
   "cell_type": "code",
   "execution_count": null,
   "metadata": {},
   "outputs": [],
   "source": [
    "from sklearn.ensemble import RandomForestRegressor\n",
    "\n",
    "model = RandomForestRegressor(random_state=1, max_depth=10)\n",
    "importances = model.feature_importances_"
   ]
  },
  {
   "cell_type": "markdown",
   "metadata": {},
   "source": [
    "# 5. Principal Component Analysis"
   ]
  },
  {
   "cell_type": "markdown",
   "metadata": {},
   "source": [
    "- Transforms input features into principal component\n",
    "- Use principal component as new feature\n",
    "- PCs are directions in data that maximizes variance and minimizes information loss\n",
    "- More variance of the data along PC , higher that PC is ranked\n",
    "- All PCs are orthogonal to each other\n",
    "\n",
    "When to use PCA?\n",
    "- Latent features driving the patterns in the data\n",
    "- Dimensionality reduction\n",
    "- vizualize high dimensional data\n",
    "- Reduce noise\n",
    "- Make other algo works better with PCA feature inputs"
   ]
  },
  {
   "cell_type": "code",
   "execution_count": 2,
   "metadata": {},
   "outputs": [],
   "source": [
    "from sklearn.decomposition import PCA\n",
    "\n",
    "def DoPCA(components, data):\n",
    "    pca = PCA(n_Components=components)\n",
    "    pca.fit(data)\n",
    "    pca.explained_vaiance_ratio_\n",
    "    \n",
    "    first_pc = pca.components[0]\n",
    "    second_pc = pca.components[1]\n",
    "    \n",
    "    \n",
    "    "
   ]
  }
 ],
 "metadata": {
  "kernelspec": {
   "display_name": "Python 3",
   "language": "python",
   "name": "python3"
  },
  "language_info": {
   "codemirror_mode": {
    "name": "ipython",
    "version": 3
   },
   "file_extension": ".py",
   "mimetype": "text/x-python",
   "name": "python",
   "nbconvert_exporter": "python",
   "pygments_lexer": "ipython3",
   "version": "3.6.6"
  }
 },
 "nbformat": 4,
 "nbformat_minor": 2
}
